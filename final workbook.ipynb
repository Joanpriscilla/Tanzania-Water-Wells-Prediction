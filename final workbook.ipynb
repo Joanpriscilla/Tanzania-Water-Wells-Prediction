{
 "cells": [
  {
   "cell_type": "code",
   "execution_count": 88,
   "metadata": {},
   "outputs": [],
   "source": [
    "#import the necessary libraries\n",
    "\n",
    "import pandas as pd\n",
    "import matplotlib.pyplot as plt\n",
    "import seaborn as sns"
   ]
  },
  {
   "cell_type": "code",
   "execution_count": 92,
   "metadata": {},
   "outputs": [
    {
     "name": "stdout",
     "output_type": "stream",
     "text": [
      "<class 'pandas.core.frame.DataFrame'>\n",
      "RangeIndex: 59400 entries, 0 to 59399\n",
      "Data columns (total 40 columns):\n",
      " #   Column                 Non-Null Count  Dtype  \n",
      "---  ------                 --------------  -----  \n",
      " 0   id                     59400 non-null  int64  \n",
      " 1   amount_tsh             59400 non-null  float64\n",
      " 2   date_recorded          59400 non-null  object \n",
      " 3   funder                 55765 non-null  object \n",
      " 4   gps_height             59400 non-null  int64  \n",
      " 5   installer              55745 non-null  object \n",
      " 6   longitude              59400 non-null  float64\n",
      " 7   latitude               59400 non-null  float64\n",
      " 8   wpt_name               59400 non-null  object \n",
      " 9   num_private            59400 non-null  int64  \n",
      " 10  basin                  59400 non-null  object \n",
      " 11  subvillage             59029 non-null  object \n",
      " 12  region                 59400 non-null  object \n",
      " 13  region_code            59400 non-null  int64  \n",
      " 14  district_code          59400 non-null  int64  \n",
      " 15  lga                    59400 non-null  object \n",
      " 16  ward                   59400 non-null  object \n",
      " 17  population             59400 non-null  int64  \n",
      " 18  public_meeting         56066 non-null  object \n",
      " 19  recorded_by            59400 non-null  object \n",
      " 20  scheme_management      55523 non-null  object \n",
      " 21  scheme_name            31234 non-null  object \n",
      " 22  permit                 56344 non-null  object \n",
      " 23  construction_year      59400 non-null  int64  \n",
      " 24  extraction_type        59400 non-null  object \n",
      " 25  extraction_type_group  59400 non-null  object \n",
      " 26  extraction_type_class  59400 non-null  object \n",
      " 27  management             59400 non-null  object \n",
      " 28  management_group       59400 non-null  object \n",
      " 29  payment                59400 non-null  object \n",
      " 30  payment_type           59400 non-null  object \n",
      " 31  water_quality          59400 non-null  object \n",
      " 32  quality_group          59400 non-null  object \n",
      " 33  quantity               59400 non-null  object \n",
      " 34  quantity_group         59400 non-null  object \n",
      " 35  source                 59400 non-null  object \n",
      " 36  source_type            59400 non-null  object \n",
      " 37  source_class           59400 non-null  object \n",
      " 38  waterpoint_type        59400 non-null  object \n",
      " 39  waterpoint_type_group  59400 non-null  object \n",
      "dtypes: float64(3), int64(7), object(30)\n",
      "memory usage: 18.1+ MB\n"
     ]
    }
   ],
   "source": [
    "#load data\n",
    "training_set = pd.read_csv('training_set_values.csv')\n",
    "training_set.info()"
   ]
  },
  {
   "cell_type": "code",
   "execution_count": 3,
   "metadata": {},
   "outputs": [
    {
     "data": {
      "text/html": [
       "<div>\n",
       "<style scoped>\n",
       "    .dataframe tbody tr th:only-of-type {\n",
       "        vertical-align: middle;\n",
       "    }\n",
       "\n",
       "    .dataframe tbody tr th {\n",
       "        vertical-align: top;\n",
       "    }\n",
       "\n",
       "    .dataframe thead th {\n",
       "        text-align: right;\n",
       "    }\n",
       "</style>\n",
       "<table border=\"1\" class=\"dataframe\">\n",
       "  <thead>\n",
       "    <tr style=\"text-align: right;\">\n",
       "      <th></th>\n",
       "      <th>id</th>\n",
       "      <th>amount_tsh</th>\n",
       "      <th>date_recorded</th>\n",
       "      <th>funder</th>\n",
       "      <th>gps_height</th>\n",
       "      <th>installer</th>\n",
       "      <th>longitude</th>\n",
       "      <th>latitude</th>\n",
       "      <th>wpt_name</th>\n",
       "      <th>num_private</th>\n",
       "      <th>...</th>\n",
       "      <th>payment_type</th>\n",
       "      <th>water_quality</th>\n",
       "      <th>quality_group</th>\n",
       "      <th>quantity</th>\n",
       "      <th>quantity_group</th>\n",
       "      <th>source</th>\n",
       "      <th>source_type</th>\n",
       "      <th>source_class</th>\n",
       "      <th>waterpoint_type</th>\n",
       "      <th>waterpoint_type_group</th>\n",
       "    </tr>\n",
       "  </thead>\n",
       "  <tbody>\n",
       "    <tr>\n",
       "      <th>12140</th>\n",
       "      <td>42312</td>\n",
       "      <td>0.0</td>\n",
       "      <td>2013-03-06</td>\n",
       "      <td>Government Of Tanzania</td>\n",
       "      <td>1399</td>\n",
       "      <td>Government</td>\n",
       "      <td>34.689976</td>\n",
       "      <td>-2.150565</td>\n",
       "      <td>Nyangi Sirocha</td>\n",
       "      <td>4</td>\n",
       "      <td>...</td>\n",
       "      <td>never pay</td>\n",
       "      <td>salty</td>\n",
       "      <td>salty</td>\n",
       "      <td>insufficient</td>\n",
       "      <td>insufficient</td>\n",
       "      <td>machine dbh</td>\n",
       "      <td>borehole</td>\n",
       "      <td>groundwater</td>\n",
       "      <td>communal standpipe</td>\n",
       "      <td>communal standpipe</td>\n",
       "    </tr>\n",
       "    <tr>\n",
       "      <th>50943</th>\n",
       "      <td>2126</td>\n",
       "      <td>0.0</td>\n",
       "      <td>2011-08-01</td>\n",
       "      <td>Bs</td>\n",
       "      <td>0</td>\n",
       "      <td>KA</td>\n",
       "      <td>31.602342</td>\n",
       "      <td>-1.620389</td>\n",
       "      <td>Kamutenge</td>\n",
       "      <td>0</td>\n",
       "      <td>...</td>\n",
       "      <td>never pay</td>\n",
       "      <td>soft</td>\n",
       "      <td>good</td>\n",
       "      <td>enough</td>\n",
       "      <td>enough</td>\n",
       "      <td>spring</td>\n",
       "      <td>spring</td>\n",
       "      <td>groundwater</td>\n",
       "      <td>improved spring</td>\n",
       "      <td>improved spring</td>\n",
       "    </tr>\n",
       "    <tr>\n",
       "      <th>19848</th>\n",
       "      <td>20724</td>\n",
       "      <td>0.0</td>\n",
       "      <td>2012-10-20</td>\n",
       "      <td>World Vision</td>\n",
       "      <td>0</td>\n",
       "      <td>DWE</td>\n",
       "      <td>32.904899</td>\n",
       "      <td>-4.179093</td>\n",
       "      <td>Kwa Bubu</td>\n",
       "      <td>0</td>\n",
       "      <td>...</td>\n",
       "      <td>never pay</td>\n",
       "      <td>soft</td>\n",
       "      <td>good</td>\n",
       "      <td>enough</td>\n",
       "      <td>enough</td>\n",
       "      <td>shallow well</td>\n",
       "      <td>shallow well</td>\n",
       "      <td>groundwater</td>\n",
       "      <td>other</td>\n",
       "      <td>other</td>\n",
       "    </tr>\n",
       "    <tr>\n",
       "      <th>31408</th>\n",
       "      <td>56045</td>\n",
       "      <td>0.0</td>\n",
       "      <td>2011-07-11</td>\n",
       "      <td>Hesawa</td>\n",
       "      <td>0</td>\n",
       "      <td>HESAWA</td>\n",
       "      <td>30.658465</td>\n",
       "      <td>-2.523827</td>\n",
       "      <td>Gwasa</td>\n",
       "      <td>0</td>\n",
       "      <td>...</td>\n",
       "      <td>never pay</td>\n",
       "      <td>soft</td>\n",
       "      <td>good</td>\n",
       "      <td>enough</td>\n",
       "      <td>enough</td>\n",
       "      <td>shallow well</td>\n",
       "      <td>shallow well</td>\n",
       "      <td>groundwater</td>\n",
       "      <td>hand pump</td>\n",
       "      <td>hand pump</td>\n",
       "    </tr>\n",
       "    <tr>\n",
       "      <th>22102</th>\n",
       "      <td>63815</td>\n",
       "      <td>0.0</td>\n",
       "      <td>2012-10-15</td>\n",
       "      <td>Dwssp</td>\n",
       "      <td>0</td>\n",
       "      <td>DWE</td>\n",
       "      <td>33.589376</td>\n",
       "      <td>-3.715731</td>\n",
       "      <td>Joshoni</td>\n",
       "      <td>0</td>\n",
       "      <td>...</td>\n",
       "      <td>per bucket</td>\n",
       "      <td>soft</td>\n",
       "      <td>good</td>\n",
       "      <td>enough</td>\n",
       "      <td>enough</td>\n",
       "      <td>spring</td>\n",
       "      <td>spring</td>\n",
       "      <td>groundwater</td>\n",
       "      <td>communal standpipe multiple</td>\n",
       "      <td>communal standpipe</td>\n",
       "    </tr>\n",
       "  </tbody>\n",
       "</table>\n",
       "<p>5 rows × 40 columns</p>\n",
       "</div>"
      ],
      "text/plain": [
       "          id  amount_tsh date_recorded                  funder  gps_height  \\\n",
       "12140  42312         0.0    2013-03-06  Government Of Tanzania        1399   \n",
       "50943   2126         0.0    2011-08-01                      Bs           0   \n",
       "19848  20724         0.0    2012-10-20            World Vision           0   \n",
       "31408  56045         0.0    2011-07-11                  Hesawa           0   \n",
       "22102  63815         0.0    2012-10-15                   Dwssp           0   \n",
       "\n",
       "        installer  longitude  latitude        wpt_name  num_private  ...  \\\n",
       "12140  Government  34.689976 -2.150565  Nyangi Sirocha            4  ...   \n",
       "50943          KA  31.602342 -1.620389       Kamutenge            0  ...   \n",
       "19848         DWE  32.904899 -4.179093        Kwa Bubu            0  ...   \n",
       "31408      HESAWA  30.658465 -2.523827           Gwasa            0  ...   \n",
       "22102         DWE  33.589376 -3.715731         Joshoni            0  ...   \n",
       "\n",
       "      payment_type water_quality quality_group      quantity  quantity_group  \\\n",
       "12140    never pay         salty         salty  insufficient    insufficient   \n",
       "50943    never pay          soft          good        enough          enough   \n",
       "19848    never pay          soft          good        enough          enough   \n",
       "31408    never pay          soft          good        enough          enough   \n",
       "22102   per bucket          soft          good        enough          enough   \n",
       "\n",
       "             source   source_type  source_class              waterpoint_type  \\\n",
       "12140   machine dbh      borehole   groundwater           communal standpipe   \n",
       "50943        spring        spring   groundwater              improved spring   \n",
       "19848  shallow well  shallow well   groundwater                        other   \n",
       "31408  shallow well  shallow well   groundwater                    hand pump   \n",
       "22102        spring        spring   groundwater  communal standpipe multiple   \n",
       "\n",
       "      waterpoint_type_group  \n",
       "12140    communal standpipe  \n",
       "50943       improved spring  \n",
       "19848                 other  \n",
       "31408             hand pump  \n",
       "22102    communal standpipe  \n",
       "\n",
       "[5 rows x 40 columns]"
      ]
     },
     "execution_count": 3,
     "metadata": {},
     "output_type": "execute_result"
    }
   ],
   "source": [
    "training_set.sample(5)"
   ]
  },
  {
   "cell_type": "code",
   "execution_count": 4,
   "metadata": {},
   "outputs": [
    {
     "data": {
      "text/plain": [
       "(59400, 40)"
      ]
     },
     "execution_count": 4,
     "metadata": {},
     "output_type": "execute_result"
    }
   ],
   "source": [
    "training_set.shape"
   ]
  },
  {
   "cell_type": "code",
   "execution_count": 5,
   "metadata": {},
   "outputs": [
    {
     "data": {
      "text/html": [
       "<div>\n",
       "<style scoped>\n",
       "    .dataframe tbody tr th:only-of-type {\n",
       "        vertical-align: middle;\n",
       "    }\n",
       "\n",
       "    .dataframe tbody tr th {\n",
       "        vertical-align: top;\n",
       "    }\n",
       "\n",
       "    .dataframe thead th {\n",
       "        text-align: right;\n",
       "    }\n",
       "</style>\n",
       "<table border=\"1\" class=\"dataframe\">\n",
       "  <thead>\n",
       "    <tr style=\"text-align: right;\">\n",
       "      <th></th>\n",
       "      <th>id</th>\n",
       "      <th>status_group</th>\n",
       "    </tr>\n",
       "  </thead>\n",
       "  <tbody>\n",
       "    <tr>\n",
       "      <th>0</th>\n",
       "      <td>69572</td>\n",
       "      <td>functional</td>\n",
       "    </tr>\n",
       "    <tr>\n",
       "      <th>1</th>\n",
       "      <td>8776</td>\n",
       "      <td>functional</td>\n",
       "    </tr>\n",
       "    <tr>\n",
       "      <th>2</th>\n",
       "      <td>34310</td>\n",
       "      <td>functional</td>\n",
       "    </tr>\n",
       "    <tr>\n",
       "      <th>3</th>\n",
       "      <td>67743</td>\n",
       "      <td>non functional</td>\n",
       "    </tr>\n",
       "    <tr>\n",
       "      <th>4</th>\n",
       "      <td>19728</td>\n",
       "      <td>functional</td>\n",
       "    </tr>\n",
       "  </tbody>\n",
       "</table>\n",
       "</div>"
      ],
      "text/plain": [
       "      id    status_group\n",
       "0  69572      functional\n",
       "1   8776      functional\n",
       "2  34310      functional\n",
       "3  67743  non functional\n",
       "4  19728      functional"
      ]
     },
     "execution_count": 5,
     "metadata": {},
     "output_type": "execute_result"
    }
   ],
   "source": [
    "labels = pd.read_csv('training_set_labels.csv')\n",
    "labels.head()"
   ]
  },
  {
   "cell_type": "code",
   "execution_count": 6,
   "metadata": {},
   "outputs": [
    {
     "data": {
      "text/html": [
       "<div>\n",
       "<style scoped>\n",
       "    .dataframe tbody tr th:only-of-type {\n",
       "        vertical-align: middle;\n",
       "    }\n",
       "\n",
       "    .dataframe tbody tr th {\n",
       "        vertical-align: top;\n",
       "    }\n",
       "\n",
       "    .dataframe thead th {\n",
       "        text-align: right;\n",
       "    }\n",
       "</style>\n",
       "<table border=\"1\" class=\"dataframe\">\n",
       "  <thead>\n",
       "    <tr style=\"text-align: right;\">\n",
       "      <th></th>\n",
       "      <th>id</th>\n",
       "      <th>status_group</th>\n",
       "      <th>amount_tsh</th>\n",
       "      <th>date_recorded</th>\n",
       "      <th>funder</th>\n",
       "      <th>gps_height</th>\n",
       "      <th>installer</th>\n",
       "      <th>longitude</th>\n",
       "      <th>latitude</th>\n",
       "      <th>wpt_name</th>\n",
       "      <th>...</th>\n",
       "      <th>payment_type</th>\n",
       "      <th>water_quality</th>\n",
       "      <th>quality_group</th>\n",
       "      <th>quantity</th>\n",
       "      <th>quantity_group</th>\n",
       "      <th>source</th>\n",
       "      <th>source_type</th>\n",
       "      <th>source_class</th>\n",
       "      <th>waterpoint_type</th>\n",
       "      <th>waterpoint_type_group</th>\n",
       "    </tr>\n",
       "  </thead>\n",
       "  <tbody>\n",
       "    <tr>\n",
       "      <th>29365</th>\n",
       "      <td>17663</td>\n",
       "      <td>functional</td>\n",
       "      <td>0.0</td>\n",
       "      <td>2012-10-12</td>\n",
       "      <td>World Bank</td>\n",
       "      <td>0</td>\n",
       "      <td>PET</td>\n",
       "      <td>33.404359</td>\n",
       "      <td>-4.238981</td>\n",
       "      <td>Zahanati</td>\n",
       "      <td>...</td>\n",
       "      <td>per bucket</td>\n",
       "      <td>salty</td>\n",
       "      <td>salty</td>\n",
       "      <td>insufficient</td>\n",
       "      <td>insufficient</td>\n",
       "      <td>machine dbh</td>\n",
       "      <td>borehole</td>\n",
       "      <td>groundwater</td>\n",
       "      <td>communal standpipe multiple</td>\n",
       "      <td>communal standpipe</td>\n",
       "    </tr>\n",
       "    <tr>\n",
       "      <th>23377</th>\n",
       "      <td>50528</td>\n",
       "      <td>functional</td>\n",
       "      <td>0.0</td>\n",
       "      <td>2011-03-16</td>\n",
       "      <td>Chamavita</td>\n",
       "      <td>1932</td>\n",
       "      <td>Chamavita</td>\n",
       "      <td>38.261857</td>\n",
       "      <td>-4.636435</td>\n",
       "      <td>Kwa Mzee Bakari Hihano</td>\n",
       "      <td>...</td>\n",
       "      <td>never pay</td>\n",
       "      <td>soft</td>\n",
       "      <td>good</td>\n",
       "      <td>enough</td>\n",
       "      <td>enough</td>\n",
       "      <td>spring</td>\n",
       "      <td>spring</td>\n",
       "      <td>groundwater</td>\n",
       "      <td>communal standpipe</td>\n",
       "      <td>communal standpipe</td>\n",
       "    </tr>\n",
       "    <tr>\n",
       "      <th>10530</th>\n",
       "      <td>64387</td>\n",
       "      <td>non functional</td>\n",
       "      <td>0.0</td>\n",
       "      <td>2013-02-20</td>\n",
       "      <td>Songea District Council</td>\n",
       "      <td>989</td>\n",
       "      <td>DWE</td>\n",
       "      <td>35.516142</td>\n",
       "      <td>-10.735972</td>\n",
       "      <td>Shule Ya Sekondari L</td>\n",
       "      <td>...</td>\n",
       "      <td>on failure</td>\n",
       "      <td>soft</td>\n",
       "      <td>good</td>\n",
       "      <td>dry</td>\n",
       "      <td>dry</td>\n",
       "      <td>shallow well</td>\n",
       "      <td>shallow well</td>\n",
       "      <td>groundwater</td>\n",
       "      <td>hand pump</td>\n",
       "      <td>hand pump</td>\n",
       "    </tr>\n",
       "    <tr>\n",
       "      <th>31772</th>\n",
       "      <td>53961</td>\n",
       "      <td>functional</td>\n",
       "      <td>0.0</td>\n",
       "      <td>2011-08-02</td>\n",
       "      <td>Private Individual</td>\n",
       "      <td>0</td>\n",
       "      <td>not known</td>\n",
       "      <td>32.441142</td>\n",
       "      <td>-2.321805</td>\n",
       "      <td>Kwa Kanyola</td>\n",
       "      <td>...</td>\n",
       "      <td>never pay</td>\n",
       "      <td>soft</td>\n",
       "      <td>good</td>\n",
       "      <td>enough</td>\n",
       "      <td>enough</td>\n",
       "      <td>shallow well</td>\n",
       "      <td>shallow well</td>\n",
       "      <td>groundwater</td>\n",
       "      <td>hand pump</td>\n",
       "      <td>hand pump</td>\n",
       "    </tr>\n",
       "    <tr>\n",
       "      <th>52632</th>\n",
       "      <td>56746</td>\n",
       "      <td>functional</td>\n",
       "      <td>0.0</td>\n",
       "      <td>2012-10-04</td>\n",
       "      <td>Netherlands</td>\n",
       "      <td>0</td>\n",
       "      <td>DWE</td>\n",
       "      <td>34.045639</td>\n",
       "      <td>-3.218921</td>\n",
       "      <td>Mkwajuni</td>\n",
       "      <td>...</td>\n",
       "      <td>other</td>\n",
       "      <td>soft</td>\n",
       "      <td>good</td>\n",
       "      <td>enough</td>\n",
       "      <td>enough</td>\n",
       "      <td>shallow well</td>\n",
       "      <td>shallow well</td>\n",
       "      <td>groundwater</td>\n",
       "      <td>hand pump</td>\n",
       "      <td>hand pump</td>\n",
       "    </tr>\n",
       "  </tbody>\n",
       "</table>\n",
       "<p>5 rows × 41 columns</p>\n",
       "</div>"
      ],
      "text/plain": [
       "          id    status_group  amount_tsh date_recorded  \\\n",
       "29365  17663      functional         0.0    2012-10-12   \n",
       "23377  50528      functional         0.0    2011-03-16   \n",
       "10530  64387  non functional         0.0    2013-02-20   \n",
       "31772  53961      functional         0.0    2011-08-02   \n",
       "52632  56746      functional         0.0    2012-10-04   \n",
       "\n",
       "                        funder  gps_height  installer  longitude   latitude  \\\n",
       "29365               World Bank           0        PET  33.404359  -4.238981   \n",
       "23377                Chamavita        1932  Chamavita  38.261857  -4.636435   \n",
       "10530  Songea District Council         989        DWE  35.516142 -10.735972   \n",
       "31772       Private Individual           0  not known  32.441142  -2.321805   \n",
       "52632              Netherlands           0        DWE  34.045639  -3.218921   \n",
       "\n",
       "                     wpt_name  ...  payment_type water_quality quality_group  \\\n",
       "29365                Zahanati  ...    per bucket         salty         salty   \n",
       "23377  Kwa Mzee Bakari Hihano  ...     never pay          soft          good   \n",
       "10530    Shule Ya Sekondari L  ...    on failure          soft          good   \n",
       "31772             Kwa Kanyola  ...     never pay          soft          good   \n",
       "52632                Mkwajuni  ...         other          soft          good   \n",
       "\n",
       "           quantity  quantity_group        source   source_type source_class  \\\n",
       "29365  insufficient    insufficient   machine dbh      borehole  groundwater   \n",
       "23377        enough          enough        spring        spring  groundwater   \n",
       "10530           dry             dry  shallow well  shallow well  groundwater   \n",
       "31772        enough          enough  shallow well  shallow well  groundwater   \n",
       "52632        enough          enough  shallow well  shallow well  groundwater   \n",
       "\n",
       "                   waterpoint_type waterpoint_type_group  \n",
       "29365  communal standpipe multiple    communal standpipe  \n",
       "23377           communal standpipe    communal standpipe  \n",
       "10530                    hand pump             hand pump  \n",
       "31772                    hand pump             hand pump  \n",
       "52632                    hand pump             hand pump  \n",
       "\n",
       "[5 rows x 41 columns]"
      ]
     },
     "execution_count": 6,
     "metadata": {},
     "output_type": "execute_result"
    }
   ],
   "source": [
    "#join training set and the training set labels\n",
    "training_set_data = labels.merge(training_set, on = 'id')\n",
    "training_set_data.sample(5)"
   ]
  },
  {
   "cell_type": "code",
   "execution_count": 7,
   "metadata": {},
   "outputs": [
    {
     "data": {
      "text/plain": [
       "scheme_name              47.417508\n",
       "scheme_management         6.526936\n",
       "installer                 6.153199\n",
       "funder                    6.119529\n",
       "public_meeting            5.612795\n",
       "permit                    5.144781\n",
       "subvillage                0.624579\n",
       "basin                     0.000000\n",
       "lga                       0.000000\n",
       "district_code             0.000000\n",
       "region_code               0.000000\n",
       "region                    0.000000\n",
       "waterpoint_type_group     0.000000\n",
       "ward                      0.000000\n",
       "wpt_name                  0.000000\n",
       "latitude                  0.000000\n",
       "longitude                 0.000000\n",
       "gps_height                0.000000\n",
       "date_recorded             0.000000\n",
       "amount_tsh                0.000000\n",
       "status_group              0.000000\n",
       "num_private               0.000000\n",
       "recorded_by               0.000000\n",
       "population                0.000000\n",
       "waterpoint_type           0.000000\n",
       "source_class              0.000000\n",
       "source_type               0.000000\n",
       "source                    0.000000\n",
       "quantity_group            0.000000\n",
       "quantity                  0.000000\n",
       "quality_group             0.000000\n",
       "water_quality             0.000000\n",
       "payment_type              0.000000\n",
       "payment                   0.000000\n",
       "management_group          0.000000\n",
       "management                0.000000\n",
       "extraction_type_class     0.000000\n",
       "extraction_type_group     0.000000\n",
       "extraction_type           0.000000\n",
       "construction_year         0.000000\n",
       "id                        0.000000\n",
       "dtype: float64"
      ]
     },
     "execution_count": 7,
     "metadata": {},
     "output_type": "execute_result"
    }
   ],
   "source": [
    "(training_set_data.isna().sum() / len(training_set_data) * 100).sort_values(ascending=False)\n"
   ]
  },
  {
   "cell_type": "markdown",
   "metadata": {},
   "source": [
    "### EDA AND DATA CLEANING"
   ]
  },
  {
   "cell_type": "code",
   "execution_count": 8,
   "metadata": {},
   "outputs": [],
   "source": [
    "#  In this particular analysis the scheme_name and scheme_management is not important so we will drop it\n",
    "\n",
    "training_set_data.drop(columns=[ 'scheme_name' , 'scheme_management'], inplace= True)\n",
    "# replace the 1 non value in scheme managment column with 'other'"
   ]
  },
  {
   "cell_type": "code",
   "execution_count": 9,
   "metadata": {},
   "outputs": [
    {
     "data": {
      "text/plain": [
       "(3334,\n",
       " True     51011\n",
       " False     5055\n",
       " Name: public_meeting, dtype: int64)"
      ]
     },
     "execution_count": 9,
     "metadata": {},
     "output_type": "execute_result"
    }
   ],
   "source": [
    "# Close look at the public_meeting column\n",
    "\n",
    "missing_values = training_set_data['public_meeting'].isna().sum()\n",
    "unique_values = training_set_data['public_meeting'].value_counts()\n",
    "missing_values, unique_values"
   ]
  },
  {
   "cell_type": "code",
   "execution_count": 10,
   "metadata": {},
   "outputs": [
    {
     "data": {
      "text/plain": [
       "(0,\n",
       " True     51011\n",
       " False     5055\n",
       " other     3334\n",
       " Name: public_meeting, dtype: int64)"
      ]
     },
     "execution_count": 10,
     "metadata": {},
     "output_type": "execute_result"
    }
   ],
   "source": [
    "#Because the public meeting column might be important, we will replace the nun values with an 'other' placeholder\n",
    "\n",
    "training_set_data['public_meeting'].fillna('other' , inplace = True)\n",
    "null = training_set_data['public_meeting'].isna().sum() \n",
    "counts = training_set_data.public_meeting.value_counts()\n",
    "\n",
    "null, counts"
   ]
  },
  {
   "cell_type": "code",
   "execution_count": 11,
   "metadata": {},
   "outputs": [
    {
     "data": {
      "text/plain": [
       "(3655,\n",
       " False,\n",
       " DWE                   17402\n",
       " Government             1825\n",
       " RWE                    1206\n",
       " Commu                  1060\n",
       " DANIDA                 1050\n",
       "                       ...  \n",
       " SELEPTA                   1\n",
       " Fin Water                 1\n",
       " kanisa                    1\n",
       " Rural water Supply        1\n",
       " TANCRO                    1\n",
       " Name: installer, Length: 2145, dtype: int64)"
      ]
     },
     "execution_count": 11,
     "metadata": {},
     "output_type": "execute_result"
    }
   ],
   "source": [
    "# lets take a closer look at the installer feature\n",
    "training_set_data['installer'] = training_set_data['installer'].str.strip()\n",
    "null_values = training_set_data.installer.isna().sum()\n",
    "count = training_set_data.installer.value_counts()\n",
    "nun = (training_set_data['installer'] == 0).any()\n",
    "null_values , nun , count "
   ]
  },
  {
   "cell_type": "code",
   "execution_count": 12,
   "metadata": {},
   "outputs": [
    {
     "data": {
      "text/plain": [
       "(DWE             17402\n",
       " other            3655\n",
       " Government       1825\n",
       " RWE              1206\n",
       " Commu            1060\n",
       "                 ...  \n",
       " H4CCP               1\n",
       " Kambi Migoko        1\n",
       " Safari Roya         1\n",
       " Villag              1\n",
       " TANCRO              1\n",
       " Name: installer, Length: 2146, dtype: int64,\n",
       " 0)"
      ]
     },
     "execution_count": 12,
     "metadata": {},
     "output_type": "execute_result"
    }
   ],
   "source": [
    "# give the installer null values an \"other\" place holder\n",
    "\n",
    "training_set_data['installer'].fillna('other' , inplace = True)\n",
    "nun = training_set_data['installer'].isna().sum()\n",
    "counts = training_set_data['installer'].value_counts()\n",
    "counts , nun "
   ]
  },
  {
   "cell_type": "code",
   "execution_count": 13,
   "metadata": {},
   "outputs": [
    {
     "data": {
      "text/plain": [
       "(3635,\n",
       " Government Of Tanzania    9084\n",
       " Danida                    3114\n",
       " Hesawa                    2202\n",
       " Rwssp                     1374\n",
       " World Bank                1349\n",
       "                           ... \n",
       " Gg                           1\n",
       " Pancrasi                     1\n",
       " Makanga                      1\n",
       " Rarymond Ekura               1\n",
       " John Skwese                  1\n",
       " Name: funder, Length: 1897, dtype: int64,\n",
       " False)"
      ]
     },
     "execution_count": 13,
     "metadata": {},
     "output_type": "execute_result"
    }
   ],
   "source": [
    "#lets have a closer look at the funder column\n",
    "training_set_data['funder'].str.strip()\n",
    "funder_count = training_set_data['funder'].value_counts()\n",
    "funder_missing = training_set_data['funder'].isna().sum()\n",
    "funder_nun = (training_set_data['funder'] == 0).any()\n",
    "funder_missing,funder_count,funder_nun\n"
   ]
  },
  {
   "cell_type": "code",
   "execution_count": 14,
   "metadata": {},
   "outputs": [
    {
     "data": {
      "text/plain": [
       "False"
      ]
     },
     "execution_count": 14,
     "metadata": {},
     "output_type": "execute_result"
    }
   ],
   "source": [
    "# fill the null values with the 'other' place holder. the assumption is that the projects could have been funded\n",
    "# by organizations that have not been documented\n",
    "training_set_data['funder'].fillna('other' , inplace = True)\n",
    "training_set_data['funder'].isna().any()\n"
   ]
  },
  {
   "cell_type": "code",
   "execution_count": 15,
   "metadata": {},
   "outputs": [
    {
     "data": {
      "text/plain": [
       "(3056,\n",
       " True     38852\n",
       " False    17492\n",
       " Name: permit, dtype: int64)"
      ]
     },
     "execution_count": 15,
     "metadata": {},
     "output_type": "execute_result"
    }
   ],
   "source": [
    "# closer look at the permit column\n",
    "count = training_set_data['permit'].value_counts()\n",
    "null = training_set_data['permit'].isna().sum()\n",
    "null , count\n"
   ]
  },
  {
   "cell_type": "code",
   "execution_count": 16,
   "metadata": {},
   "outputs": [
    {
     "data": {
      "text/plain": [
       "False"
      ]
     },
     "execution_count": 16,
     "metadata": {},
     "output_type": "execute_result"
    }
   ],
   "source": [
    "# filling the null permit values with unknown. Our assumption is the null values could be either true or false\n",
    "\n",
    "training_set_data['permit'].fillna('unknown', inplace = True)\n",
    "training_set_data['permit'].isna().any()"
   ]
  },
  {
   "cell_type": "code",
   "execution_count": 17,
   "metadata": {},
   "outputs": [
    {
     "data": {
      "text/plain": [
       "(False,\n",
       " 371,\n",
       " Madukani         508\n",
       " Shuleni          506\n",
       " Majengo          502\n",
       " Kati             373\n",
       " Mtakuja          262\n",
       "                 ... \n",
       " Matene             1\n",
       " Olumkuna           1\n",
       " Nangara            1\n",
       " Kwa Nyanji         1\n",
       " Mabama Center      1\n",
       " Name: subvillage, Length: 19287, dtype: int64)"
      ]
     },
     "execution_count": 17,
     "metadata": {},
     "output_type": "execute_result"
    }
   ],
   "source": [
    "# closer look at the sub_village column\n",
    "\n",
    "training_set_data['subvillage'].str.strip()\n",
    "\n",
    "subvillage_count = training_set_data.subvillage.value_counts()\n",
    "subvillage_nan = (training_set_data.subvillage == 'nan').any()\n",
    "subvillage_null= training_set_data['subvillage'].isna().sum()\n",
    "\n",
    "subvillage_nan, subvillage_null, subvillage_count\n"
   ]
  },
  {
   "cell_type": "code",
   "execution_count": 18,
   "metadata": {},
   "outputs": [
    {
     "data": {
      "text/plain": [
       "False"
      ]
     },
     "execution_count": 18,
     "metadata": {},
     "output_type": "execute_result"
    }
   ],
   "source": [
    "training_set_data['subvillage'].fillna('unknown' , inplace = True)\n",
    "training_set_data['subvillage'].isna().any()"
   ]
  },
  {
   "cell_type": "code",
   "execution_count": 19,
   "metadata": {},
   "outputs": [
    {
     "data": {
      "text/plain": [
       "waterpoint_type_group    0.0\n",
       "wpt_name                 0.0\n",
       "lga                      0.0\n",
       "district_code            0.0\n",
       "region_code              0.0\n",
       "region                   0.0\n",
       "subvillage               0.0\n",
       "basin                    0.0\n",
       "num_private              0.0\n",
       "latitude                 0.0\n",
       "population               0.0\n",
       "longitude                0.0\n",
       "installer                0.0\n",
       "gps_height               0.0\n",
       "funder                   0.0\n",
       "date_recorded            0.0\n",
       "amount_tsh               0.0\n",
       "status_group             0.0\n",
       "ward                     0.0\n",
       "public_meeting           0.0\n",
       "waterpoint_type          0.0\n",
       "payment_type             0.0\n",
       "source_class             0.0\n",
       "source_type              0.0\n",
       "source                   0.0\n",
       "quantity_group           0.0\n",
       "quantity                 0.0\n",
       "quality_group            0.0\n",
       "water_quality            0.0\n",
       "payment                  0.0\n",
       "recorded_by              0.0\n",
       "management_group         0.0\n",
       "management               0.0\n",
       "extraction_type_class    0.0\n",
       "extraction_type_group    0.0\n",
       "extraction_type          0.0\n",
       "construction_year        0.0\n",
       "permit                   0.0\n",
       "id                       0.0\n",
       "dtype: float64"
      ]
     },
     "execution_count": 19,
     "metadata": {},
     "output_type": "execute_result"
    }
   ],
   "source": [
    "(training_set_data.isna().sum() / len(training_set_data) * 100).sort_values(ascending=False)\n"
   ]
  },
  {
   "cell_type": "code",
   "execution_count": 20,
   "metadata": {},
   "outputs": [
    {
     "data": {
      "text/html": [
       "<div>\n",
       "<style scoped>\n",
       "    .dataframe tbody tr th:only-of-type {\n",
       "        vertical-align: middle;\n",
       "    }\n",
       "\n",
       "    .dataframe tbody tr th {\n",
       "        vertical-align: top;\n",
       "    }\n",
       "\n",
       "    .dataframe thead th {\n",
       "        text-align: right;\n",
       "    }\n",
       "</style>\n",
       "<table border=\"1\" class=\"dataframe\">\n",
       "  <thead>\n",
       "    <tr style=\"text-align: right;\">\n",
       "      <th></th>\n",
       "      <th>construction_year</th>\n",
       "      <th>status_group</th>\n",
       "      <th>count</th>\n",
       "    </tr>\n",
       "  </thead>\n",
       "  <tbody>\n",
       "    <tr>\n",
       "      <th>0</th>\n",
       "      <td>0</td>\n",
       "      <td>functional</td>\n",
       "      <td>10555</td>\n",
       "    </tr>\n",
       "    <tr>\n",
       "      <th>1</th>\n",
       "      <td>0</td>\n",
       "      <td>non functional</td>\n",
       "      <td>8365</td>\n",
       "    </tr>\n",
       "    <tr>\n",
       "      <th>2</th>\n",
       "      <td>2010</td>\n",
       "      <td>functional</td>\n",
       "      <td>2023</td>\n",
       "    </tr>\n",
       "    <tr>\n",
       "      <th>3</th>\n",
       "      <td>2008</td>\n",
       "      <td>functional</td>\n",
       "      <td>1839</td>\n",
       "    </tr>\n",
       "    <tr>\n",
       "      <th>4</th>\n",
       "      <td>0</td>\n",
       "      <td>functional needs repair</td>\n",
       "      <td>1789</td>\n",
       "    </tr>\n",
       "    <tr>\n",
       "      <th>5</th>\n",
       "      <td>2009</td>\n",
       "      <td>functional</td>\n",
       "      <td>1774</td>\n",
       "    </tr>\n",
       "    <tr>\n",
       "      <th>6</th>\n",
       "      <td>2000</td>\n",
       "      <td>functional</td>\n",
       "      <td>1279</td>\n",
       "    </tr>\n",
       "    <tr>\n",
       "      <th>7</th>\n",
       "      <td>2007</td>\n",
       "      <td>functional</td>\n",
       "      <td>1081</td>\n",
       "    </tr>\n",
       "    <tr>\n",
       "      <th>8</th>\n",
       "      <td>2011</td>\n",
       "      <td>functional</td>\n",
       "      <td>943</td>\n",
       "    </tr>\n",
       "    <tr>\n",
       "      <th>9</th>\n",
       "      <td>2006</td>\n",
       "      <td>functional</td>\n",
       "      <td>883</td>\n",
       "    </tr>\n",
       "  </tbody>\n",
       "</table>\n",
       "</div>"
      ],
      "text/plain": [
       "   construction_year             status_group  count\n",
       "0                  0               functional  10555\n",
       "1                  0           non functional   8365\n",
       "2               2010               functional   2023\n",
       "3               2008               functional   1839\n",
       "4                  0  functional needs repair   1789\n",
       "5               2009               functional   1774\n",
       "6               2000               functional   1279\n",
       "7               2007               functional   1081\n",
       "8               2011               functional    943\n",
       "9               2006               functional    883"
      ]
     },
     "execution_count": 20,
     "metadata": {},
     "output_type": "execute_result"
    }
   ],
   "source": [
    "# distribution of status group on year of construction\n",
    "from pandasql import sqldf\n",
    "# Query\n",
    "query = \"\"\"SELECT construction_year, status_group, COUNT(*) as count\n",
    "            FROM training_set_data\n",
    "            GROUP BY construction_year, status_group\n",
    "            ORDER BY count DESC\n",
    "            LIMIT 10 \"\"\"\n",
    "\n",
    "pysqldf = sqldf(query)\n",
    "\n",
    "# Run the query\n",
    "result = pysqldf\n",
    "result\n",
    "\n",
    "# \"\"\"Construction year has a lot of 0 values. We will drop the construction year feature as its not important in our analysis\"\"\"\n"
   ]
  },
  {
   "cell_type": "code",
   "execution_count": 21,
   "metadata": {},
   "outputs": [],
   "source": [
    "# drop construction year column\n",
    "training_set_data.drop('construction_year' , axis = 1,  inplace= True) "
   ]
  },
  {
   "cell_type": "code",
   "execution_count": 22,
   "metadata": {},
   "outputs": [
    {
     "name": "stdout",
     "output_type": "stream",
     "text": [
      "['id', 'amount_tsh', 'gps_height', 'longitude', 'num_private', 'district_code', 'population', 'public_meeting', 'permit']\n"
     ]
    }
   ],
   "source": [
    "# which other columns have 0 as a row entry\n",
    "columns_with_zero_entries = []\n",
    "\n",
    "for column in training_set_data.columns:\n",
    "    if (training_set_data[column] == 0).any():\n",
    "        columns_with_zero_entries.append(column)\n",
    "\n",
    "print(columns_with_zero_entries)\n"
   ]
  },
  {
   "cell_type": "code",
   "execution_count": 23,
   "metadata": {},
   "outputs": [
    {
     "data": {
      "text/plain": [
       "0.0         0.700993\n",
       "500.0       0.052222\n",
       "50.0        0.041616\n",
       "1000.0      0.025051\n",
       "20.0        0.024630\n",
       "              ...   \n",
       "8500.0      0.000017\n",
       "6300.0      0.000017\n",
       "220.0       0.000017\n",
       "138000.0    0.000017\n",
       "12.0        0.000017\n",
       "Name: amount_tsh, Length: 98, dtype: float64"
      ]
     },
     "execution_count": 23,
     "metadata": {},
     "output_type": "execute_result"
    }
   ],
   "source": [
    "# \"\"\"Amount_tsh refers to the total static head which is  the height that water has to travel as it moves through your discharge pipe.\n",
    "#  Having a static head of 0 is normal\"\"\"\n",
    "\n",
    "training_set_data['amount_tsh'].value_counts(normalize=True)"
   ]
  },
  {
   "cell_type": "code",
   "execution_count": 24,
   "metadata": {},
   "outputs": [
    {
     "data": {
      "text/plain": [
       " 0       0.344074\n",
       "-15      0.001010\n",
       "-16      0.000926\n",
       "-13      0.000926\n",
       "-20      0.000875\n",
       "           ...   \n",
       " 2285    0.000017\n",
       " 2424    0.000017\n",
       " 2552    0.000017\n",
       " 2413    0.000017\n",
       " 2385    0.000017\n",
       "Name: gps_height, Length: 2428, dtype: float64"
      ]
     },
     "execution_count": 24,
     "metadata": {},
     "output_type": "execute_result"
    }
   ],
   "source": [
    "# \"\"\"Gps_height refers to the altitude of the well. Having a gps height of 0 could mean that the well\n",
    "#  is located at or very close to the sea level.\n",
    "#  This could be determined by the well loction and topography\"\"\"\n",
    "\n",
    "training_set_data['gps_height'].value_counts(normalize = True)"
   ]
  },
  {
   "cell_type": "code",
   "execution_count": 25,
   "metadata": {},
   "outputs": [
    {
     "data": {
      "text/plain": [
       "0.000000     1812\n",
       "37.540901       2\n",
       "33.010510       2\n",
       "39.093484       2\n",
       "32.972719       2\n",
       "             ... \n",
       "37.579803       1\n",
       "33.196490       1\n",
       "34.017119       1\n",
       "33.788326       1\n",
       "30.163579       1\n",
       "Name: longitude, Length: 57516, dtype: int64"
      ]
     },
     "execution_count": 25,
     "metadata": {},
     "output_type": "execute_result"
    }
   ],
   "source": [
    "training_set_data['longitude'].value_counts()\n",
    "\n",
    "# A longitude of 0.0000 is not viable in tanzania due to its geographical location"
   ]
  },
  {
   "cell_type": "code",
   "execution_count": 26,
   "metadata": {},
   "outputs": [
    {
     "name": "stdout",
     "output_type": "stream",
     "text": [
      "There are no latitude values equal to -0.000 in the data.\n"
     ]
    }
   ],
   "source": [
    "#check if there is a latitude of -0\n",
    "latitude_zero = training_set_data[training_set_data['latitude'] == -0.000]\n",
    "\n",
    "latitude_0 = training_set_data[training_set_data['latitude'] == -0.00 ]\n",
    "if not latitude_zero.empty:\n",
    "    print(\"There are latitude values equal to -0.000 in the data.\")\n",
    "else:\n",
    "    print(\"There are no latitude values equal to -0.000 in the data.\")\n",
    "\n",
    "# fill the "
   ]
  },
  {
   "cell_type": "code",
   "execution_count": 27,
   "metadata": {},
   "outputs": [
    {
     "data": {
      "text/plain": [
       "Mabama Center      1\n",
       "Malesela           1\n",
       "Amani Gomvu        1\n",
       "Kiponza            1\n",
       "Nyalioba           1\n",
       "                ... \n",
       "unknown          371\n",
       "Kati             373\n",
       "Majengo          502\n",
       "Shuleni          506\n",
       "Madukani         508\n",
       "Name: subvillage, Length: 19288, dtype: int64"
      ]
     },
     "execution_count": 27,
     "metadata": {},
     "output_type": "execute_result"
    }
   ],
   "source": [
    "training_set_data.subvillage.value_counts().sort_values(ascending= True)"
   ]
  },
  {
   "cell_type": "code",
   "execution_count": 28,
   "metadata": {},
   "outputs": [
    {
     "data": {
      "text/plain": [
       "0.000000     1142\n",
       "30.655523      73\n",
       "26.970854      20\n",
       "5.186375       15\n",
       "20.643729      15\n",
       "             ... \n",
       "38.206421       1\n",
       "33.848109       1\n",
       "38.477746       1\n",
       "32.108284       1\n",
       "36.835439       1\n",
       "Name: longitude, Length: 57747, dtype: int64"
      ]
     },
     "execution_count": 28,
     "metadata": {},
     "output_type": "execute_result"
    }
   ],
   "source": [
    "# replace the longitude 0.0000 with the mean longitude of of the subvillage feature because its geographically coded\n",
    " # and it has the most area information distribution\n",
    "def impute_subvillage(group):\n",
    "\n",
    "    mean_longitude = group['longitude'].mean()\n",
    "    group['longitude'].replace(0.000000, mean_longitude, inplace=True)\n",
    "    \n",
    "    return group\n",
    "\n",
    "# Apply the impute_subvillage function within the groupby\n",
    "training_set_data = training_set_data.groupby('subvillage').apply(impute_subvillage).reset_index(drop=True)\n",
    "\n",
    "#assert replacement\n",
    "training_set_data['longitude'].value_counts()\n"
   ]
  },
  {
   "cell_type": "code",
   "execution_count": 29,
   "metadata": {},
   "outputs": [
    {
     "data": {
      "text/plain": [
       "Igosi               307\n",
       "Imalinyi            252\n",
       "Siha Kati           232\n",
       "Mdandu              231\n",
       "Nduruma             217\n",
       "                   ... \n",
       "Mitole                1\n",
       "Mwanga Kaskazini      1\n",
       "Kirongo               1\n",
       "Korongoni             1\n",
       "Uchindile             1\n",
       "Name: ward, Length: 2092, dtype: int64"
      ]
     },
     "execution_count": 29,
     "metadata": {},
     "output_type": "execute_result"
    }
   ],
   "source": [
    "training_set_data.ward.value_counts()"
   ]
  },
  {
   "cell_type": "code",
   "execution_count": 30,
   "metadata": {},
   "outputs": [
    {
     "data": {
      "text/plain": [
       "3.523766     93\n",
       "30.655523    73\n",
       "5.906816     58\n",
       "7.931782     48\n",
       "19.391759    47\n",
       "             ..\n",
       "30.917959     1\n",
       "35.476144     1\n",
       "37.140763     1\n",
       "36.831815     1\n",
       "36.835439     1\n",
       "Name: longitude, Length: 57809, dtype: int64"
      ]
     },
     "execution_count": 30,
     "metadata": {},
     "output_type": "execute_result"
    }
   ],
   "source": [
    "# using subvillage did not fill all the null values. Make use of the ward feature to fill the remaining values\n",
    "\n",
    "def impute_ward(group):\n",
    "\n",
    "    mean_longitude = group['longitude'].mean()\n",
    "    group['longitude'].replace(0.0000, mean_longitude, inplace=True)\n",
    "    \n",
    "    return group\n",
    "\n",
    "# Apply the impute_subvillage function within the groupby\n",
    "training_set_data = training_set_data.groupby('ward').apply(impute_subvillage).reset_index(drop=True)\n",
    "\n",
    "# Display the updated value_counts\n",
    "training_set_data['longitude'].value_counts()"
   ]
  },
  {
   "cell_type": "code",
   "execution_count": 31,
   "metadata": {},
   "outputs": [
    {
     "data": {
      "text/plain": [
       "False    59368\n",
       "True        32\n",
       "Name: longitude, dtype: int64"
      ]
     },
     "execution_count": 31,
     "metadata": {},
     "output_type": "execute_result"
    }
   ],
   "source": [
    "#assert replacement\n",
    "(training_set_data.longitude == 0.0000).value_counts()\n",
    "\n",
    "#there are still 32 entries with 0.000 as the  longitude"
   ]
  },
  {
   "cell_type": "code",
   "execution_count": 32,
   "metadata": {},
   "outputs": [
    {
     "data": {
      "text/plain": [
       "Njombe          2503\n",
       "Arusha Rural    1252\n",
       "Moshi Rural     1251\n",
       "Bariadi         1177\n",
       "Rungwe          1106\n",
       "                ... \n",
       "Moshi Urban       79\n",
       "Kigoma Urban      71\n",
       "Arusha Urban      63\n",
       "Lindi Urban       21\n",
       "Nyamagana          1\n",
       "Name: lga, Length: 125, dtype: int64"
      ]
     },
     "execution_count": 32,
     "metadata": {},
     "output_type": "execute_result"
    }
   ],
   "source": [
    "training_set_data.lga.value_counts()"
   ]
  },
  {
   "cell_type": "code",
   "execution_count": 33,
   "metadata": {},
   "outputs": [
    {
     "data": {
      "text/plain": [
       "False"
      ]
     },
     "execution_count": 33,
     "metadata": {},
     "output_type": "execute_result"
    }
   ],
   "source": [
    "# we will makee use of the region feature to replace this values\n",
    "def impute_lga (group):\n",
    "    mean_longitude = group['longitude'].mean()\n",
    "    group['longitude'].replace(0.0000, mean_longitude, inplace=True)\n",
    "    \n",
    "    return group\n",
    "\n",
    "#Apply the impute_subvillage function within the groupby\n",
    "training_set_data = training_set_data.groupby('lga').apply(impute_lga).reset_index(drop=True)\n",
    "\n",
    "# Display the updated value_counts\n",
    "zero_longitude = (training_set_data['longitude'] == 0.0000) .any()\n",
    "zero_longitude\n",
    "\n",
    "# all 0.0000 longitude values have been replaced"
   ]
  },
  {
   "cell_type": "code",
   "execution_count": 34,
   "metadata": {},
   "outputs": [
    {
     "data": {
      "text/plain": [
       "0      58643\n",
       "6         81\n",
       "1         73\n",
       "5         46\n",
       "8         46\n",
       "       ...  \n",
       "180        1\n",
       "213        1\n",
       "23         1\n",
       "55         1\n",
       "94         1\n",
       "Name: num_private, Length: 65, dtype: int64"
      ]
     },
     "execution_count": 34,
     "metadata": {},
     "output_type": "execute_result"
    }
   ],
   "source": [
    "# closer look at the num_private column\n",
    "training_set_data.num_private.value_counts()"
   ]
  },
  {
   "cell_type": "code",
   "execution_count": 35,
   "metadata": {},
   "outputs": [],
   "source": [
    "# drop column as its not useful in our analysis\n",
    "training_set_data.drop('num_private' , axis = 1 , inplace = True)\n"
   ]
  },
  {
   "cell_type": "code",
   "execution_count": 36,
   "metadata": {},
   "outputs": [
    {
     "data": {
      "text/plain": [
       "1     12203\n",
       "2     11173\n",
       "3      9998\n",
       "4      8999\n",
       "5      4356\n",
       "6      4074\n",
       "7      3343\n",
       "8      1043\n",
       "30      995\n",
       "33      874\n",
       "53      745\n",
       "43      505\n",
       "13      391\n",
       "23      293\n",
       "63      195\n",
       "62      109\n",
       "60       63\n",
       "0        23\n",
       "80       12\n",
       "67        6\n",
       "Name: district_code, dtype: int64"
      ]
     },
     "execution_count": 36,
     "metadata": {},
     "output_type": "execute_result"
    }
   ],
   "source": [
    "# closer look at the district code column\n",
    "training_set_data.district_code.value_counts()"
   ]
  },
  {
   "cell_type": "code",
   "execution_count": 37,
   "metadata": {},
   "outputs": [],
   "source": [
    "# normally a district code of 0 is not valid but in this case i will not be making use of the district code feature so we cna drop that column\n",
    "training_set_data.drop(columns = 'district_code' ,inplace = True)"
   ]
  },
  {
   "cell_type": "code",
   "execution_count": 38,
   "metadata": {},
   "outputs": [
    {
     "data": {
      "text/plain": [
       "0       0.359949\n",
       "1       0.118266\n",
       "200     0.032660\n",
       "150     0.031852\n",
       "250     0.028300\n",
       "          ...   \n",
       "3241    0.000017\n",
       "1960    0.000017\n",
       "1685    0.000017\n",
       "2248    0.000017\n",
       "1439    0.000017\n",
       "Name: population, Length: 1049, dtype: float64"
      ]
     },
     "execution_count": 38,
     "metadata": {},
     "output_type": "execute_result"
    }
   ],
   "source": [
    "training_set_data.population.value_counts(normalize = True)\n",
    "\n",
    "# The population around a well can be 0"
   ]
  },
  {
   "cell_type": "code",
   "execution_count": 39,
   "metadata": {},
   "outputs": [
    {
     "data": {
      "text/plain": [
       "functional                 32259\n",
       "non functional             22824\n",
       "functional needs repair     4317\n",
       "Name: status_group, dtype: int64"
      ]
     },
     "execution_count": 39,
     "metadata": {},
     "output_type": "execute_result"
    }
   ],
   "source": [
    "training_set_data['status_group'].value_counts()"
   ]
  },
  {
   "cell_type": "code",
   "execution_count": 40,
   "metadata": {},
   "outputs": [
    {
     "data": {
      "text/plain": [
       "(True       38852\n",
       " False      17492\n",
       " unknown     3056\n",
       " Name: permit, dtype: int64,\n",
       " True     51011\n",
       " False     5055\n",
       " other     3334\n",
       " Name: public_meeting, dtype: int64)"
      ]
     },
     "execution_count": 40,
     "metadata": {},
     "output_type": "execute_result"
    }
   ],
   "source": [
    "permit_count = training_set_data.permit.value_counts()\n",
    "public_meeting_count = training_set_data.public_meeting.value_counts()\n",
    "\n",
    "permit_count , public_meeting_count\n"
   ]
  },
  {
   "cell_type": "code",
   "execution_count": 41,
   "metadata": {},
   "outputs": [
    {
     "name": "stdout",
     "output_type": "stream",
     "text": [
      "[]\n"
     ]
    }
   ],
   "source": [
    "# check columns with nan entries\n",
    "columns_with_nan_entries = []\n",
    "\n",
    "for column in training_set_data.columns:\n",
    "    if (training_set_data[column] == 'nun').any():\n",
    "        columns_with_zero_entries.append(column)\n",
    "\n",
    "print(columns_with_nan_entries)"
   ]
  },
  {
   "cell_type": "code",
   "execution_count": 42,
   "metadata": {},
   "outputs": [
    {
     "data": {
      "text/plain": [
       "spring                  17021\n",
       "shallow well            16824\n",
       "machine dbh             11075\n",
       "river                    9612\n",
       "rainwater harvesting     2295\n",
       "hand dtw                  874\n",
       "lake                      765\n",
       "dam                       656\n",
       "other                     212\n",
       "unknown                    66\n",
       "Name: source, dtype: int64"
      ]
     },
     "execution_count": 42,
     "metadata": {},
     "output_type": "execute_result"
    }
   ],
   "source": [
    " #closer look at the source column\n",
    "training_set_data['source'].value_counts().sort_values(ascending=False)\n",
    "# unknown as an entry in the source feature. "
   ]
  },
  {
   "cell_type": "code",
   "execution_count": 43,
   "metadata": {},
   "outputs": [
    {
     "data": {
      "text/plain": [
       "spring                  17021\n",
       "shallow well            16824\n",
       "machine dbh             11075\n",
       "river                    9612\n",
       "rainwater harvesting     2295\n",
       "hand dtw                  874\n",
       "lake                      765\n",
       "dam                       656\n",
       "other                     278\n",
       "Name: source, dtype: int64"
      ]
     },
     "execution_count": 43,
     "metadata": {},
     "output_type": "execute_result"
    }
   ],
   "source": [
    "#fill unknown values in the source feature\n",
    "unknown_source_class = training_set_data[training_set_data['source'] == 'unknown']\n",
    "\n",
    "for index, row in unknown_source_class.iterrows():\n",
    "    # Identify similar records by comparing values in source_class and source_type feature\n",
    "    similar_records = training_set_data[\n",
    "        (training_set_data['source_class'] == row['source_class']) &  \n",
    "        (training_set_data['source_type'] == row['source_type']) \n",
    "    ]\n",
    "    \n",
    "    if not similar_records.empty:\n",
    "        imputed_value = similar_records['source'].mode().iloc[0]\n",
    "        training_set_data.at[index, 'source'] = imputed_value\n",
    "\n",
    "# Verify that missing values have been imputed\n",
    "training_set_data['source'].value_counts().sort_values(ascending=False)"
   ]
  },
  {
   "cell_type": "code",
   "execution_count": 44,
   "metadata": {},
   "outputs": [
    {
     "data": {
      "text/plain": [
       "spring                  17021\n",
       "shallow well            16824\n",
       "borehole                11949\n",
       "river/lake              10377\n",
       "rainwater harvesting     2295\n",
       "dam                       656\n",
       "other                     278\n",
       "Name: source_type, dtype: int64"
      ]
     },
     "execution_count": 44,
     "metadata": {},
     "output_type": "execute_result"
    }
   ],
   "source": [
    "# closer look at the source_type class\n",
    "training_set_data['source_type'].value_counts()"
   ]
  },
  {
   "cell_type": "code",
   "execution_count": 45,
   "metadata": {},
   "outputs": [
    {
     "data": {
      "text/plain": [
       "groundwater    45794\n",
       "surface        13328\n",
       "unknown          278\n",
       "Name: source_class, dtype: int64"
      ]
     },
     "execution_count": 45,
     "metadata": {},
     "output_type": "execute_result"
    }
   ],
   "source": [
    "# closer look at the source_class feature\n",
    "training_set_data['source_class'].value_counts()"
   ]
  },
  {
   "cell_type": "code",
   "execution_count": 46,
   "metadata": {},
   "outputs": [],
   "source": [
    "# dropping source type and class due to duplication of information\n",
    "training_set_data.drop(columns = ['source_class' , 'source_type'],  inplace = True)"
   ]
  },
  {
   "cell_type": "code",
   "execution_count": 47,
   "metadata": {},
   "outputs": [
    {
     "data": {
      "text/plain": [
       "soft                  50818\n",
       "salty                  4856\n",
       "unknown                1876\n",
       "milky                   804\n",
       "coloured                490\n",
       "salty abandoned         339\n",
       "fluoride                200\n",
       "fluoride abandoned       17\n",
       "Name: water_quality, dtype: int64"
      ]
     },
     "execution_count": 47,
     "metadata": {},
     "output_type": "execute_result"
    }
   ],
   "source": [
    "training_set_data.water_quality.value_counts()"
   ]
  },
  {
   "cell_type": "code",
   "execution_count": 48,
   "metadata": {},
   "outputs": [
    {
     "data": {
      "text/plain": [
       "good        50818\n",
       "salty        5195\n",
       "unknown      1876\n",
       "milky         804\n",
       "colored       490\n",
       "fluoride      217\n",
       "Name: quality_group, dtype: int64"
      ]
     },
     "execution_count": 48,
     "metadata": {},
     "output_type": "execute_result"
    }
   ],
   "source": [
    "training_set_data.quality_group.value_counts()"
   ]
  },
  {
   "cell_type": "code",
   "execution_count": 49,
   "metadata": {},
   "outputs": [],
   "source": [
    "# water quality and quality group features have the same categories. Drop the quality group category because the water quality category is more defined\n",
    "training_set_data.drop(columns = 'quality_group' , inplace = True)"
   ]
  },
  {
   "cell_type": "code",
   "execution_count": 50,
   "metadata": {},
   "outputs": [
    {
     "data": {
      "text/plain": [
       "enough          33186\n",
       "insufficient    15129\n",
       "dry              6246\n",
       "seasonal         4050\n",
       "unknown           789\n",
       "Name: quantity, dtype: int64"
      ]
     },
     "execution_count": 50,
     "metadata": {},
     "output_type": "execute_result"
    }
   ],
   "source": [
    "training_set_data.quantity.value_counts()"
   ]
  },
  {
   "cell_type": "code",
   "execution_count": 51,
   "metadata": {},
   "outputs": [
    {
     "data": {
      "text/plain": [
       "enough          33186\n",
       "insufficient    15129\n",
       "dry              6246\n",
       "seasonal         4050\n",
       "unknown           789\n",
       "Name: quantity_group, dtype: int64"
      ]
     },
     "execution_count": 51,
     "metadata": {},
     "output_type": "execute_result"
    }
   ],
   "source": [
    "training_set_data.quantity_group.value_counts()"
   ]
  },
  {
   "cell_type": "code",
   "execution_count": 52,
   "metadata": {},
   "outputs": [],
   "source": [
    "# quantity group and quantity have the same categories so ill drop the quantity group feature\n",
    "\n",
    "training_set_data.drop(columns = 'quantity_group', inplace = True)"
   ]
  },
  {
   "cell_type": "code",
   "execution_count": 53,
   "metadata": {},
   "outputs": [
    {
     "data": {
      "text/plain": [
       "(never pay                25348\n",
       " pay per bucket            8985\n",
       " pay monthly               8300\n",
       " unknown                   8157\n",
       " pay when scheme fails     3914\n",
       " pay annually              3642\n",
       " other                     1054\n",
       " Name: payment, dtype: int64,\n",
       " never pay     25348\n",
       " per bucket     8985\n",
       " monthly        8300\n",
       " unknown        8157\n",
       " on failure     3914\n",
       " annually       3642\n",
       " other          1054\n",
       " Name: payment_type, dtype: int64)"
      ]
     },
     "execution_count": 53,
     "metadata": {},
     "output_type": "execute_result"
    }
   ],
   "source": [
    "payment_counts = training_set_data.payment.value_counts()\n",
    "payment_type_counts = training_set_data.payment_type.value_counts()\n",
    "\n",
    "payment_counts ,payment_type_counts"
   ]
  },
  {
   "cell_type": "code",
   "execution_count": 54,
   "metadata": {},
   "outputs": [],
   "source": [
    "# payment and payment type feature have the same categories. so ill drop the payment_type feature\n",
    "training_set_data.drop(columns = 'payment_type' , inplace = True)"
   ]
  },
  {
   "cell_type": "code",
   "execution_count": 55,
   "metadata": {},
   "outputs": [
    {
     "data": {
      "text/plain": [
       "Kwa Roman Massawe          1\n",
       "Kwa Joseph Mali            1\n",
       "Kwa Mzee Christiani        1\n",
       "Kwa Josephat Massawe       1\n",
       "Kwa Muhamedi               1\n",
       "                        ... \n",
       "Kanisani                 323\n",
       "Msikitini                535\n",
       "Zahanati                 830\n",
       "Shuleni                 1748\n",
       "none                    3563\n",
       "Name: wpt_name, Length: 37400, dtype: int64"
      ]
     },
     "execution_count": 55,
     "metadata": {},
     "output_type": "execute_result"
    }
   ],
   "source": [
    "training_set_data['wpt_name'] . value_counts().sort_values(ascending=True)\n"
   ]
  },
  {
   "cell_type": "code",
   "execution_count": 56,
   "metadata": {},
   "outputs": [],
   "source": [
    "# drop the column as i won't be needing it in my analysis\n",
    "training_set_data.drop(columns = 'wpt_name' , inplace = True)"
   ]
  },
  {
   "cell_type": "code",
   "execution_count": 57,
   "metadata": {},
   "outputs": [
    {
     "data": {
      "text/plain": [
       "GeoData Consultants Ltd    59400\n",
       "Name: recorded_by, dtype: int64"
      ]
     },
     "execution_count": 57,
     "metadata": {},
     "output_type": "execute_result"
    }
   ],
   "source": [
    "training_set_data['recorded_by'] . value_counts().sort_values(ascending=True)"
   ]
  },
  {
   "cell_type": "code",
   "execution_count": 58,
   "metadata": {},
   "outputs": [],
   "source": [
    "# drop this column because it wont be useful in our analysis\n",
    "training_set_data.drop(columns = 'recorded_by' , inplace = True)"
   ]
  },
  {
   "cell_type": "code",
   "execution_count": 59,
   "metadata": {},
   "outputs": [
    {
     "data": {
      "text/plain": [
       "india mark iii        98\n",
       "wind-powered         117\n",
       "other motorpump      122\n",
       "other handpump       364\n",
       "rope pump            451\n",
       "afridev             1770\n",
       "india mark ii       2400\n",
       "mono                2865\n",
       "swn 80              3670\n",
       "submersible         6179\n",
       "other               6430\n",
       "nira/tanira         8154\n",
       "gravity            26780\n",
       "Name: extraction_type_group, dtype: int64"
      ]
     },
     "execution_count": 59,
     "metadata": {},
     "output_type": "execute_result"
    }
   ],
   "source": [
    "training_set_data['extraction_type_group'] . value_counts().sort_values(ascending=True)"
   ]
  },
  {
   "cell_type": "code",
   "execution_count": 60,
   "metadata": {},
   "outputs": [
    {
     "data": {
      "text/plain": [
       "other - mkulima/shinyanga        2\n",
       "climax                          32\n",
       "walimi                          48\n",
       "other - play pump               85\n",
       "cemo                            90\n",
       "india mark iii                  98\n",
       "windmill                       117\n",
       "other - swn 81                 229\n",
       "other - rope pump              451\n",
       "ksb                           1415\n",
       "afridev                       1770\n",
       "india mark ii                 2400\n",
       "mono                          2865\n",
       "swn 80                        3670\n",
       "submersible                   4764\n",
       "other                         6430\n",
       "nira/tanira                   8154\n",
       "gravity                      26780\n",
       "Name: extraction_type, dtype: int64"
      ]
     },
     "execution_count": 60,
     "metadata": {},
     "output_type": "execute_result"
    }
   ],
   "source": [
    "training_set_data['extraction_type'] . value_counts().sort_values(ascending=True)"
   ]
  },
  {
   "cell_type": "code",
   "execution_count": 61,
   "metadata": {},
   "outputs": [
    {
     "data": {
      "text/plain": [
       "wind-powered      117\n",
       "rope pump         451\n",
       "motorpump        2987\n",
       "submersible      6179\n",
       "other            6430\n",
       "handpump        16456\n",
       "gravity         26780\n",
       "Name: extraction_type_class, dtype: int64"
      ]
     },
     "execution_count": 61,
     "metadata": {},
     "output_type": "execute_result"
    }
   ],
   "source": [
    "training_set_data['extraction_type_class'] . value_counts().sort_values(ascending=True)"
   ]
  },
  {
   "cell_type": "code",
   "execution_count": 62,
   "metadata": {},
   "outputs": [],
   "source": [
    "# dropping all the remaining type_group and type class columns because of duplication of information \n",
    "training_set_data.drop(columns = ['extraction_type_group' , 'extraction_type_class' , 'waterpoint_type_group', 'management_group'], inplace = True)"
   ]
  },
  {
   "cell_type": "code",
   "execution_count": 63,
   "metadata": {},
   "outputs": [
    {
     "data": {
      "image/png": "[encoded data removed]",
      "text/plain": [
       "<Figure size 720x360 with 1 Axes>"
      ]
     },
     "metadata": {
      "needs_background": "light"
     },
     "output_type": "display_data"
    },
    {
     "data": {
      "text/plain": [
       "'Functional water pumps have the highest distribution followed closely by non_functional waterpumps'"
      ]
     },
     "execution_count": 63,
     "metadata": {},
     "output_type": "execute_result"
    }
   ],
   "source": [
    "# distribution of status groups\n",
    "status_group_count = training_set_data.status_group.value_counts()\n",
    "labels = list(status_group_count.index)\n",
    "counts = list(status_group_count.tolist())\n",
    "\n",
    "# plot\n",
    "plt.figure(figsize=(10, 5)) \n",
    "plt.bar(labels, counts, color=['green', 'blue', 'orange']) \n",
    "plt.title('Status Group Distribution')\n",
    "plt.xlabel('Status Group')\n",
    "plt.ylabel('Count')\n",
    "\n",
    "\n",
    "plt.show()\n",
    "\n",
    "\"\"\"Functional water pumps have the highest distribution followed closely by non_functional waterpumps\"\"\"\n"
   ]
  },
  {
   "cell_type": "code",
   "execution_count": 64,
   "metadata": {},
   "outputs": [
    {
     "data": {
      "text/plain": [
       "<Figure size 720x360 with 0 Axes>"
      ]
     },
     "metadata": {},
     "output_type": "display_data"
    },
    {
     "data": {
      "image/png": "[encoded data removed]",
      "text/plain": [
       "<Figure size 720x432 with 1 Axes>"
      ]
     },
     "metadata": {
      "needs_background": "light"
     },
     "output_type": "display_data"
    }
   ],
   "source": [
    "# distribution of status groups per permit\n",
    "\n",
    "data = training_set_data.groupby(['permit', 'status_group']).size().unstack()\n",
    "\n",
    "plt.figure(figsize= (10,5))\n",
    "data.plot(kind='bar', stacked=True, figsize=(10, 6))\n",
    "plt.title ('PERMIT VS STATUS GROUP')\n",
    "plt.xlabel('Permit')\n",
    "plt.ylabel('Status group')\n",
    "plt.show()"
   ]
  },
  {
   "cell_type": "code",
   "execution_count": 65,
   "metadata": {},
   "outputs": [
    {
     "data": {
      "text/plain": [
       "id                   int64\n",
       "status_group        object\n",
       "amount_tsh         float64\n",
       "date_recorded       object\n",
       "funder              object\n",
       "gps_height           int64\n",
       "installer           object\n",
       "longitude          float64\n",
       "latitude           float64\n",
       "basin               object\n",
       "subvillage          object\n",
       "region              object\n",
       "region_code          int64\n",
       "lga                 object\n",
       "ward                object\n",
       "population           int64\n",
       "public_meeting      object\n",
       "permit              object\n",
       "extraction_type     object\n",
       "management          object\n",
       "payment             object\n",
       "water_quality       object\n",
       "quantity            object\n",
       "source              object\n",
       "waterpoint_type     object\n",
       "dtype: object"
      ]
     },
     "execution_count": 65,
     "metadata": {},
     "output_type": "execute_result"
    }
   ],
   "source": [
    "training_set_data.dtypes"
   ]
  },
  {
   "cell_type": "markdown",
   "metadata": {},
   "source": [
    "## MODELLING"
   ]
  },
  {
   "cell_type": "markdown",
   "metadata": {},
   "source": [
    "It is  worse for nonfunctional wells to be predicted as functional than for functional wells to be predicted to be nonfunctional. This is it would create an impression that alot of well are in a functional state subsequently leading to a scarcity in water"
   ]
  },
  {
   "cell_type": "markdown",
   "metadata": {},
   "source": [
    "### Train split test"
   ]
  },
  {
   "cell_type": "code",
   "execution_count": 66,
   "metadata": {},
   "outputs": [],
   "source": [
    "import  category_encoders as ce\n",
    "from sklearn.model_selection import train_test_split\n",
    "from sklearn.preprocessing import StandardScaler\n",
    "from imblearn.over_sampling import SMOTE\n",
    "from sklearn.dummy import DummyClassifier\n",
    "from sklearn.metrics import accuracy_score\n",
    "import numpy as np\n",
    "from sklearn.ensemble import RandomForestClassifier\n",
    "from sklearn.metrics import confusion_matrix, classification_report, accuracy_score\n",
    "from sklearn.metrics import ConfusionMatrixDisplay\n",
    "from xgboost import XGBClassifier\n"
   ]
  },
  {
   "cell_type": "markdown",
   "metadata": {},
   "source": [
    "## Creating our baseline model \n",
    "Using random classifier. The random clasiffier assigns class labels without observing any patterns in the data"
   ]
  },
  {
   "cell_type": "code",
   "execution_count": 67,
   "metadata": {},
   "outputs": [],
   "source": [
    "# encoding my categorical data\n",
    "\n",
    "# Create a copy of the target variable\n",
    "target_variable = training_set_data['status_group'].copy()\n",
    "\n",
    "# Automatically identify and drop the target variable from categorical columns\n",
    "categorical_columns = training_set_data.select_dtypes(include=['object']).drop(['status_group'], axis=1).columns\n",
    "\n",
    "# Create a OneHotEncoder instance\n",
    "encoder = ce.BinaryEncoder(cols=categorical_columns)\n",
    "\n",
    "# Fit and transform the identified categorical columns\n",
    "data_encoded = encoder.fit_transform(training_set_data[categorical_columns])\n",
    "\n",
    "training_set_data.drop(columns=categorical_columns, inplace=True)\n",
    "training_set_data = pd.concat([training_set_data, data_encoded], axis=1)\n"
   ]
  },
  {
   "cell_type": "code",
   "execution_count": 68,
   "metadata": {},
   "outputs": [
    {
     "name": "stdout",
     "output_type": "stream",
     "text": [
      "Number transactions X_train dataset:  (47520, 112)\n",
      "Number transactions y_train dataset:  (47520,)\n",
      "Number transactions X_test dataset:  (11880, 112)\n",
      "Number transactions y_test dataset:  (11880,)\n"
     ]
    }
   ],
   "source": [
    "#split my data\n",
    "\n",
    "from sklearn.model_selection import train_test_split\n",
    "\n",
    "X = training_set_data.drop(['status_group'], axis=1)\n",
    "y = training_set_data['status_group']\n",
    "\n",
    "X_train, X_test, y_train, y_test = train_test_split(X, y, test_size=0.2, stratify=y, random_state=42)\n",
    "\n",
    "# describes info about train and test set \n",
    "print(\"Number transactions X_train dataset: \", X_train.shape) \n",
    "print(\"Number transactions y_train dataset: \", y_train.shape) \n",
    "print(\"Number transactions X_test dataset: \", X_test.shape) \n",
    "print(\"Number transactions y_test dataset: \", y_test.shape) "
   ]
  },
  {
   "cell_type": "code",
   "execution_count": 69,
   "metadata": {},
   "outputs": [],
   "source": [
    "# Create a StandardScaler instance and fit/transform on training data\n",
    "scaler = StandardScaler()\n",
    "X_train_scaled = scaler.fit_transform(X_train)\n",
    "\n",
    "# Transform the test data using the same scaler\n",
    "X_test_scaled = scaler.transform(X_test)"
   ]
  },
  {
   "cell_type": "code",
   "execution_count": 70,
   "metadata": {},
   "outputs": [],
   "source": [
    "#Apply SMOTE to the training data only\n",
    "sm = SMOTE(random_state=42)\n",
    "X_train_resampled, y_train_resampled = sm.fit_sample(X_train_scaled, y_train)"
   ]
  },
  {
   "cell_type": "code",
   "execution_count": 71,
   "metadata": {},
   "outputs": [
    {
     "name": "stdout",
     "output_type": "stream",
     "text": [
      "The Random Classifier Accuracy is :  0.33\n"
     ]
    }
   ],
   "source": [
    "# Create our baseline model\n",
    "random_classifier = DummyClassifier(strategy= 'uniform')\n",
    "\n",
    "#fit it\n",
    "random_classifier.fit(X_train_resampled , y_train_resampled)\n",
    "\n",
    "#make predictions on scaled features\n",
    "y_random_predict = random_classifier.predict(X_test_scaled)\n",
    "\n",
    "#evaluate the accuracy\n",
    "accuracy = accuracy_score(y_test , y_random_predict)\n",
    "\n",
    "print(f\"The Random Classifier Accuracy is : { accuracy : .2f}\")\n"
   ]
  },
  {
   "cell_type": "markdown",
   "metadata": {},
   "source": [
    "## FIRST MODEL\n",
    "\n",
    "Using random forest classifier"
   ]
  },
  {
   "cell_type": "code",
   "execution_count": 72,
   "metadata": {},
   "outputs": [
    {
     "name": "stdout",
     "output_type": "stream",
     "text": [
      "[[5644  199  609]\n",
      " [ 425  298  140]\n",
      " [ 999   81 3485]]\n",
      "                         precision    recall  f1-score   support\n",
      "\n",
      "             functional       0.80      0.87      0.83      6452\n",
      "functional needs repair       0.52      0.35      0.41       863\n",
      "         non functional       0.82      0.76      0.79      4565\n",
      "\n",
      "               accuracy                           0.79     11880\n",
      "              macro avg       0.71      0.66      0.68     11880\n",
      "           weighted avg       0.79      0.79      0.79     11880\n",
      "\n"
     ]
    }
   ],
   "source": [
    "#create a random forest classifier\n",
    "rf_classifier = RandomForestClassifier(random_state=42 )\n",
    "\n",
    "#fit the model\n",
    "rf_classifier.fit (X_train_resampled , y_train_resampled)\n",
    "\n",
    "#make predictions\n",
    "y_predict = rf_classifier.predict(X_test_scaled)\n",
    "\n",
    "#evaluate the accuracy\n",
    "print(confusion_matrix(y_test, y_predict))\n",
    "print(classification_report(y_test, y_predict))\n"
   ]
  },
  {
   "cell_type": "code",
   "execution_count": 73,
   "metadata": {},
   "outputs": [
    {
     "data": {
      "image/png": "[encoded data removed]",
      "text/plain": [
       "<Figure size 576x432 with 2 Axes>"
      ]
     },
     "metadata": {
      "needs_background": "light"
     },
     "output_type": "display_data"
    }
   ],
   "source": [
    "import matplotlib.pyplot as plt\n",
    "import seaborn as sns\n",
    "from sklearn.metrics import confusion_matrix\n",
    "from sklearn.metrics import classification_report\n",
    "\n",
    "# Your confusion matrix\n",
    "conf_matrix = [[5625, 205, 622],\n",
    "               [422, 298, 143],\n",
    "               [1015, 81, 3469]]\n",
    "\n",
    "# Labels for the classes\n",
    "class_labels = ['functional', 'functional needs repair', 'non functional']\n",
    "\n",
    "# Create a heatmap of the confusion matrix\n",
    "plt.figure(figsize=(8, 6))\n",
    "sns.heatmap(conf_matrix, annot=True, fmt='d', cmap='Blues', xticklabels=class_labels, yticklabels=class_labels)\n",
    "\n",
    "plt.xlabel('Predicted')\n",
    "plt.ylabel('Actual')\n",
    "plt.title('Confusion Matrix Heatmap')\n",
    "plt.show()"
   ]
  },
  {
   "cell_type": "markdown",
   "metadata": {},
   "source": [
    "The first row represents instances that are in the functional class, the second row represents instances that are in the functtional needs repair class and the third row represents instances that are in the not functional class\n",
    "\n",
    "#### Functional class\n",
    "    The model correctly predicted 5625 instances as functional. It wrongly predicted 205 instances as functional needs repair when in real sense they were functional and also wrongly predicts 622 instances as non functional while they were actually functional\n",
    "\n",
    "#### Functional needs repair\n",
    "      The model correctly predicts 298 instances as functional needs repair. It wrongly predicted 422 instances as functional when in real sense they needed repair and also wrongly precicted 143 instances as not functional when they needed repair\n",
    "\n",
    "#### Not functional\n",
    "      The model correctly predicts 3469 instances  as not functional. However it wrongly predicted 1015 instances as functional when they were not functional and also wrongly predicted 81 instances as needs repair when they were not functional.\n",
    "\n",
    "#### Precision\n",
    "      It measures the proportion of all predictions that were correct.\n",
    "      Theres an 80% accuracy for the functional wells predictions , a 51% precision for the functional but needs repair wells and a 0.82% precision for the not functional wells predictions\n",
    "\n",
    "####  Recall\n",
    "      Measures the proportion of actual positive cases that were correctly identified\n",
    "      87% of positive instances in the functional status group were correctly predicted , 35% in the functional needs repair were predicted and 76% in the not functional status group were predicted\n",
    "\n",
    "####  F_1score\n",
    "       This is the harmonic mean of precision and recall \n",
    "       Functional had a score of 83% , functional needs repair had a score of 41% and non functional 79%\n",
    "\n",
    "####  Support\n",
    "      This is the number of instances in eeach of your class\n",
    "\n",
    "Accuracy measures the overall correctness of the model's predictions. Our model has an accuracy of 79%"
   ]
  },
  {
   "cell_type": "markdown",
   "metadata": {},
   "source": [
    "However the predictions in my functional needs repair class are performinng poorly. we shall make use of another model to see if there will be any improvments"
   ]
  },
  {
   "cell_type": "markdown",
   "metadata": {},
   "source": [
    "Creatting predicted probabilities. This method gives you the probability estimates for each class in a multi-class classification problem. Model Evaluation: You can use predicted labels to evaluate the performance of your machine learning model to see whether my unsampled data works best."
   ]
  },
  {
   "cell_type": "markdown",
   "metadata": {},
   "source": [
    "##  SECOND MODEL\n",
    "Using XGboost classification\n"
   ]
  },
  {
   "cell_type": "code",
   "execution_count": 74,
   "metadata": {},
   "outputs": [
    {
     "name": "stdout",
     "output_type": "stream",
     "text": [
      "XGBoost Classifier Accuracy: 0.79\n",
      "                         precision    recall  f1-score   support\n",
      "\n",
      "             functional       0.78      0.90      0.83      6452\n",
      "functional needs repair       0.55      0.29      0.38       863\n",
      "         non functional       0.84      0.73      0.78      4565\n",
      "\n",
      "               accuracy                           0.79     11880\n",
      "              macro avg       0.72      0.64      0.66     11880\n",
      "           weighted avg       0.78      0.79      0.78     11880\n",
      "\n",
      "[[5777  148  527]\n",
      " [ 507  251  105]\n",
      " [1167   60 3338]]\n"
     ]
    }
   ],
   "source": [
    "xgb_classifier = XGBClassifier(random_state=42)\n",
    "\n",
    "# Train model\n",
    "xgb_classifier.fit(X_train_resampled , y_train_resampled)\n",
    "\n",
    "# Make predictions\n",
    "xgb_y_predict = xgb_classifier.predict(X_test_scaled)\n",
    "\n",
    "# Evaluate the model\n",
    "accuracy_xgb = accuracy_score(y_test, xgb_y_predict)\n",
    "\n",
    "print(f\"XGBoost Classifier Accuracy: {accuracy_xgb:.2f}\")\n",
    "print(classification_report(y_test, xgb_y_predict))\n",
    "print(confusion_matrix(y_test, xgb_y_predict))"
   ]
  },
  {
   "cell_type": "code",
   "execution_count": 75,
   "metadata": {},
   "outputs": [
    {
     "data": {
      "image/png": "[encoded data removed]",
      "text/plain": [
       "<Figure size 576x432 with 2 Axes>"
      ]
     },
     "metadata": {
      "needs_background": "light"
     },
     "output_type": "display_data"
    }
   ],
   "source": [
    "# Your confusion matrix\n",
    "conf_matrix = [[5773 , 165 , 514],\n",
    "                [ 491 , 263 , 109],\n",
    "                [1137 ,  68 , 3360]]\n",
    "\n",
    "# Labels for the classes\n",
    "class_labels = ['functional', 'functional needs repair', 'non functional']\n",
    "\n",
    "# Create a heatmap of the confusion matrix\n",
    "plt.figure(figsize=(8, 6))\n",
    "sns.heatmap(conf_matrix, annot=True, fmt='d', cmap='Blues', xticklabels=class_labels, yticklabels=class_labels)\n",
    "\n",
    "plt.xlabel('Predicted')\n",
    "plt.ylabel('Actual')\n",
    "plt.title('Confusion Matrix Heatmap')\n",
    "plt.show()"
   ]
  },
  {
   "cell_type": "markdown",
   "metadata": {},
   "source": [
    "Both models have an accuracy score of 0.79, which is the same.\n",
    "\n",
    "For the \"Functional\" class , the second model has a slightly better recall (0.89) than the first model's (0.87), a lower precision(0.78) compared to (0.80) and  the same f1_score as the first model's (0.83)\n",
    "\n",
    "For the \"Functional Needs Repair\" class, the second model has a somewhat lower recall (0.30) compared to the first model (0.35) but a higher precision of (0.53) compared to (0.51). The f_1 score is also low at (0.39) compared to the first model's (0.41)\n",
    "\n",
    "For the \"Non-Functional\" class, the initial model's precision (0.82) is somewhat lower in comparison to that of the second model's (0.84), and its recall (0.76) is marginally higher than that of the second model which is (0.74). The f_1 score is similar in both models."
   ]
  },
  {
   "cell_type": "markdown",
   "metadata": {},
   "source": [
    "Despite fixing class imbalances using SMOTE , the quantity of support for each class in the resampled data may still be affected because SMOTE creates sample instances using data that is already in existence. In this case, the functional needs repair class had significantly less instances compared to other classes.\n",
    "\n",
    "Precision focuses on minimizing false positives, while recall focuses on minimizing false negatives therefore Improving precision may lead to a decrease in recall and vice versa as seen in our models above"
   ]
  },
  {
   "cell_type": "code",
   "execution_count": 76,
   "metadata": {},
   "outputs": [
    {
     "name": "stdout",
     "output_type": "stream",
     "text": [
      "Number of samples in X_train_scaled: 47520\n",
      "Number of samples in y_train_resampled: 77421\n"
     ]
    }
   ],
   "source": [
    "print(\"Number of samples in X_train_scaled:\", X_train_scaled.shape[0])\n",
    "print(\"Number of samples in y_train_resampled:\", len(y_train_resampled))"
   ]
  },
  {
   "cell_type": "markdown",
   "metadata": {},
   "source": [
    "## MODEL 3\n",
    "Using gradient Boost Classifier"
   ]
  },
  {
   "cell_type": "code",
   "execution_count": 86,
   "metadata": {},
   "outputs": [
    {
     "name": "stdout",
     "output_type": "stream",
     "text": [
      "                         precision    recall  f1-score   support\n",
      "\n",
      "             functional       0.54      0.66      0.60      6457\n",
      "functional needs repair       0.08      0.04      0.05       851\n",
      "         non functional       0.38      0.30      0.33      4572\n",
      "\n",
      "               accuracy                           0.48     11880\n",
      "              macro avg       0.33      0.33      0.33     11880\n",
      "           weighted avg       0.45      0.48      0.46     11880\n",
      "\n",
      "Confusion Matrix:\n",
      "[[4278  207 1972]\n",
      " [ 534   30  287]\n",
      " [3047  153 1372]]\n"
     ]
    }
   ],
   "source": [
    "from sklearn.ensemble import GradientBoostingClassifier\n",
    "# Create a Gradient Boosting Classifier\n",
    "gb_classifier = GradientBoostingClassifier(n_estimators=100, learning_rate=0.1, max_depth=3, random_state=42)\n",
    "\n",
    "# Fit the model on the scaled training data\n",
    "gb_classifier.fit(X_train_resampled, y_train_resampled)\n",
    "\n",
    "# Make predictions on the scaled test set\n",
    "gb_y_pred = gb_classifier.predict(X_test_scaled)\n",
    "\n",
    "# Display a classification report and confusion matrix\n",
    "print(classification_report(y_test, gb_y_pred))\n",
    "print(\"Confusion Matrix:\")\n",
    "print(confusion_matrix(y_test, gb_y_pred))\n",
    "\n"
   ]
  },
  {
   "cell_type": "markdown",
   "metadata": {},
   "source": [
    "## HYPERPARAMETER TUNING \n",
    "Using RandomForestClassifier"
   ]
  },
  {
   "cell_type": "code",
   "execution_count": 84,
   "metadata": {},
   "outputs": [
    {
     "name": "stdout",
     "output_type": "stream",
     "text": [
      "Best Hyperparameters: {'bootstrap': False, 'criterion': 'gini', 'max_depth': None, 'max_features': 9, 'min_samples_leaf': 5, 'min_samples_split': 8}\n",
      "Mean Test Scores: [0.61777812 0.83261647 0.79555934 0.63158575 0.82580953 0.62281552\n",
      " 0.61179783 0.62136888]\n",
      "Accuracy on Test Set: 0.4655723905723906\n",
      "                         precision    recall  f1-score   support\n",
      "\n",
      "             functional       0.55      0.60      0.57      6457\n",
      "functional needs repair       0.07      0.05      0.06       851\n",
      "         non functional       0.38      0.35      0.37      4572\n",
      "\n",
      "               accuracy                           0.47     11880\n",
      "              macro avg       0.33      0.33      0.33     11880\n",
      "           weighted avg       0.45      0.47      0.46     11880\n",
      "\n",
      "Confusion Matrix:\n",
      "[[3900  327 2230]\n",
      " [ 494   41  316]\n",
      " [2759  223 1590]]\n"
     ]
    }
   ],
   "source": [
    "from sklearn.model_selection import RandomizedSearchCV\n",
    "from scipy.stats import randint as sp_randint\n",
    "# Create a Random Forest Classifier\n",
    "clf = RandomForestClassifier(n_estimators=50)\n",
    "\n",
    "# Define a parameter distribution for hyperparameter tuning\n",
    "param_dist = {\n",
    "    \"max_depth\": [3, None],\n",
    "    \"max_features\": sp_randint(1, 11),\n",
    "    \"min_samples_split\": sp_randint(2, 11),\n",
    "    \"min_samples_leaf\": sp_randint(1, 11),\n",
    "    \"bootstrap\": [True, False],\n",
    "    \"criterion\": [\"gini\", \"entropy\"]\n",
    "}\n",
    "\n",
    "samples = 8  # Number of random samples\n",
    "\n",
    "# Create a RandomizedSearchCV object\n",
    "randomCV = RandomizedSearchCV(clf, param_distributions=param_dist, n_iter=samples, cv=3, n_jobs=-1)\n",
    "\n",
    "# Fit the RandomizedSearchCV object to your training data\n",
    "randomCV.fit(X_train_resampled, y_train_resampled)\n",
    "\n",
    "# Print the best hyperparameters found by the search\n",
    "print(\"Best Hyperparameters:\", randomCV.best_params_)\n",
    "\n",
    "# Access the mean test scores from cross-validation\n",
    "print(\"Mean Test Scores:\", randomCV.cv_results_['mean_test_score'])\n",
    "\n",
    "# Make predictions on the scaled test set using the best model\n",
    "best_model = randomCV.best_estimator_\n",
    "y_pred = best_model.predict(X_test_scaled)\n",
    "\n",
    "# Evaluate the best model's performance on the test set\n",
    "accuracy = accuracy_score(y_test, y_pred)\n",
    "print(\"Accuracy on Test Set:\", accuracy)\n",
    "\n",
    "# Display a classification report and confusion matrix\n",
    "print(classification_report(y_test, y_pred))\n",
    "print(\"Confusion Matrix:\")\n",
    "print(confusion_matrix(y_test, y_pred))"
   ]
  },
  {
   "cell_type": "markdown",
   "metadata": {},
   "source": [
    "The accuracy on the test set dropped significantly, and the precision, recall, and F1-score for all classes also decreased. This could be a result of suboptimal hyperparameters and potential overfitting."
   ]
  },
  {
   "cell_type": "markdown",
   "metadata": {},
   "source": [
    "USE RECURSIVE FEATURE ENGINEERING"
   ]
  },
  {
   "cell_type": "code",
   "execution_count": 87,
   "metadata": {},
   "outputs": [
    {
     "name": "stderr",
     "output_type": "stream",
     "text": [
      "<ipython-input-87-640c350572b1>:20: FutureWarning: Using a non-tuple sequence for multidimensional indexing is deprecated; use `arr[tuple(seq)]` instead of `arr[seq]`. In the future this will be interpreted as an array index, `arr[np.array(seq)]`, which will result either in an error or a different result.\n",
      "  clf.fit(X_train_scaled_resampled[selected_features], y_train_resampled)\n"
     ]
    },
    {
     "ename": "IndexError",
     "evalue": "only integers, slices (`:`), ellipsis (`...`), numpy.newaxis (`None`) and integer or boolean arrays are valid indices",
     "output_type": "error",
     "traceback": [
      "\u001b[1;31m---------------------------------------------------------------------------\u001b[0m",
      "\u001b[1;31mIndexError\u001b[0m                                Traceback (most recent call last)",
      "\u001b[1;32m<ipython-input-87-640c350572b1>\u001b[0m in \u001b[0;36m<module>\u001b[1;34m\u001b[0m\n\u001b[0;32m     18\u001b[0m \u001b[1;33m\u001b[0m\u001b[0m\n\u001b[0;32m     19\u001b[0m \u001b[1;31m# Train the model on the selected features\u001b[0m\u001b[1;33m\u001b[0m\u001b[1;33m\u001b[0m\u001b[1;33m\u001b[0m\u001b[0m\n\u001b[1;32m---> 20\u001b[1;33m \u001b[0mclf\u001b[0m\u001b[1;33m.\u001b[0m\u001b[0mfit\u001b[0m\u001b[1;33m(\u001b[0m\u001b[0mX_train_scaled_resampled\u001b[0m\u001b[1;33m[\u001b[0m\u001b[0mselected_features\u001b[0m\u001b[1;33m]\u001b[0m\u001b[1;33m,\u001b[0m \u001b[0my_train_resampled\u001b[0m\u001b[1;33m)\u001b[0m\u001b[1;33m\u001b[0m\u001b[1;33m\u001b[0m\u001b[0m\n\u001b[0m\u001b[0;32m     21\u001b[0m \u001b[1;33m\u001b[0m\u001b[0m\n\u001b[0;32m     22\u001b[0m \u001b[1;31m# Make predictions on the test set using the selected features\u001b[0m\u001b[1;33m\u001b[0m\u001b[1;33m\u001b[0m\u001b[1;33m\u001b[0m\u001b[0m\n",
      "\u001b[1;31mIndexError\u001b[0m: only integers, slices (`:`), ellipsis (`...`), numpy.newaxis (`None`) and integer or boolean arrays are valid indices"
     ]
    }
   ],
   "source": [
    "from sklearn.feature_selection import RFE\n",
    "# Split the data into training and testing sets \n",
    "X_train_scaled_resampled, X_test_scaled, y_train_resampled, y_test = train_test_split(\n",
    "    X_train_resampled, y_train_resampled, test_size=0.2, random_state=42\n",
    ")\n",
    "# Create a Random Forest Classifier\n",
    "clf = RandomForestClassifier(random_state=42)\n",
    "\n",
    "# Initialize the RFE with the classifier and the number of features to select\n",
    "num_features_to_select = 10  \n",
    "rfe = RFE(clf, n_features_to_select=num_features_to_select)\n",
    "\n",
    "# Fit the RFE to the training data\n",
    "rfe.fit(X_train_scaled_resampled, y_train_resampled)\n",
    "\n",
    "# Get the selected features\n",
    "selected_features = X_train.columns[rfe.support_]\n",
    "\n",
    "# Train the model on the selected features\n",
    "clf.fit(X_train_scaled_resampled[selected_features], y_train_resampled)\n",
    "\n",
    "# Make predictions on the test set using the selected features\n",
    "y_pred = clf.predict(X_test_scaled[selected_features])"
   ]
  },
  {
   "cell_type": "code",
   "execution_count": null,
   "metadata": {},
   "outputs": [],
   "source": [
    "# Split the data into training and testing sets\n",
    "X_train_scaled_resampled, X_test_scaled, y_train_resampled, y_test = train_test_split(\n",
    "    X_train_resampled, y_train_resampled, test_size=0.2, random_state=42\n",
    ")\n",
    "\n",
    "# Create a Random Forest Classifier\n",
    "clf = RandomForestClassifier(random_state=42)\n",
    "\n",
    "# Initialize the RFE with the classifier and the number of features to select\n",
    "num_features_to_select = 10  \n",
    "rfe = RFE(clf, n_features_to_select=num_features_to_select)\n",
    "\n",
    "# Fit the RFE to the training data\n",
    "rfe.fit(X_train_scaled_resampled, y_train_resampled)\n",
    "\n",
    "# Get the selected features\n",
    "selected_features = X_train_scaled_resampled.columns[rfe.support_]\n",
    "\n",
    "# Train the model on the selected features\n",
    "clf.fit(X_train_scaled_resampled[selected_features], y_train_resampled)\n",
    "\n",
    "# Make predictions on the test set using the selected features\n",
    "y_pred = clf.predict(X_test_scaled[selected_features])"
   ]
  },
  {
   "cell_type": "code",
   "execution_count": 90,
   "metadata": {},
   "outputs": [
    {
     "data": {
      "text/plain": [
       "dtype('float64')"
      ]
     },
     "execution_count": 90,
     "metadata": {},
     "output_type": "execute_result"
    }
   ],
   "source": [
    "X_train_scaled_resampled.dtype"
   ]
  },
  {
   "cell_type": "code",
   "execution_count": 91,
   "metadata": {},
   "outputs": [
    {
     "ename": "NameError",
     "evalue": "name 'train_test_data' is not defined",
     "output_type": "error",
     "traceback": [
      "\u001b[1;31m---------------------------------------------------------------------------\u001b[0m",
      "\u001b[1;31mNameError\u001b[0m                                 Traceback (most recent call last)",
      "\u001b[1;32m<ipython-input-91-493730c948fb>\u001b[0m in \u001b[0;36m<module>\u001b[1;34m\u001b[0m\n\u001b[1;32m----> 1\u001b[1;33m \u001b[0mtrain_test_data\u001b[0m\u001b[1;33m.\u001b[0m\u001b[0mdescribe\u001b[0m\u001b[1;33m(\u001b[0m\u001b[1;33m)\u001b[0m\u001b[1;33m\u001b[0m\u001b[1;33m\u001b[0m\u001b[0m\n\u001b[0m",
      "\u001b[1;31mNameError\u001b[0m: name 'train_test_data' is not defined"
     ]
    }
   ],
   "source": [
    "train_test_data.describe()"
   ]
  }
 ],
 "metadata": {
  "kernelspec": {
   "display_name": "learn-env",
   "language": "python",
   "name": "python3"
  },
  "language_info": {
   "codemirror_mode": {
    "name": "ipython",
    "version": 3
   },
   "file_extension": ".py",
   "mimetype": "text/x-python",
   "name": "python",
   "nbconvert_exporter": "python",
   "pygments_lexer": "ipython3",
   "version": "3.8.5"
  }
 },
 "nbformat": 4,
 "nbformat_minor": 2
}
